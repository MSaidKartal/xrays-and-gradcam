{
  "nbformat": 4,
  "nbformat_minor": 0,
  "metadata": {
    "orig_nbformat": 2,
    "kernelspec": {
      "name": "python3",
      "display_name": "Python 3"
    },
    "colab": {
      "name": "train.ipynb",
      "provenance": [],
      "collapsed_sections": []
    },
    "language_info": {
      "name": "python"
    },
    "accelerator": "GPU",
    "widgets": {
      "application/vnd.jupyter.widget-state+json": {
        "1f9f782e1dbc4d49b569797bfba5cb0d": {
          "model_module": "@jupyter-widgets/controls",
          "model_name": "HBoxModel",
          "state": {
            "_view_name": "HBoxView",
            "_dom_classes": [],
            "_model_name": "HBoxModel",
            "_view_module": "@jupyter-widgets/controls",
            "_model_module_version": "1.5.0",
            "_view_count": null,
            "_view_module_version": "1.5.0",
            "box_style": "",
            "layout": "IPY_MODEL_7f5f4f78acfd4d5ca29a520ed20e9202",
            "_model_module": "@jupyter-widgets/controls",
            "children": [
              "IPY_MODEL_a4f9a4b3fd6240f396022d8f9bf553c5",
              "IPY_MODEL_55941f406ffd44f6b75152b74425ce36"
            ]
          }
        },
        "7f5f4f78acfd4d5ca29a520ed20e9202": {
          "model_module": "@jupyter-widgets/base",
          "model_name": "LayoutModel",
          "state": {
            "_view_name": "LayoutView",
            "grid_template_rows": null,
            "right": null,
            "justify_content": null,
            "_view_module": "@jupyter-widgets/base",
            "overflow": null,
            "_model_module_version": "1.2.0",
            "_view_count": null,
            "flex_flow": null,
            "width": null,
            "min_width": null,
            "border": null,
            "align_items": null,
            "bottom": null,
            "_model_module": "@jupyter-widgets/base",
            "top": null,
            "grid_column": null,
            "overflow_y": null,
            "overflow_x": null,
            "grid_auto_flow": null,
            "grid_area": null,
            "grid_template_columns": null,
            "flex": null,
            "_model_name": "LayoutModel",
            "justify_items": null,
            "grid_row": null,
            "max_height": null,
            "align_content": null,
            "visibility": null,
            "align_self": null,
            "height": null,
            "min_height": null,
            "padding": null,
            "grid_auto_rows": null,
            "grid_gap": null,
            "max_width": null,
            "order": null,
            "_view_module_version": "1.2.0",
            "grid_template_areas": null,
            "object_position": null,
            "object_fit": null,
            "grid_auto_columns": null,
            "margin": null,
            "display": null,
            "left": null
          }
        },
        "a4f9a4b3fd6240f396022d8f9bf553c5": {
          "model_module": "@jupyter-widgets/controls",
          "model_name": "FloatProgressModel",
          "state": {
            "_view_name": "ProgressView",
            "style": "IPY_MODEL_4f155c92efc34d2db4dbeb3de736ae92",
            "_dom_classes": [],
            "description": "100%",
            "_model_name": "FloatProgressModel",
            "bar_style": "success",
            "max": 553433881,
            "_view_module": "@jupyter-widgets/controls",
            "_model_module_version": "1.5.0",
            "value": 553433881,
            "_view_count": null,
            "_view_module_version": "1.5.0",
            "orientation": "horizontal",
            "min": 0,
            "description_tooltip": null,
            "_model_module": "@jupyter-widgets/controls",
            "layout": "IPY_MODEL_ec7939e5555f42a79969da41c9a8964e"
          }
        },
        "55941f406ffd44f6b75152b74425ce36": {
          "model_module": "@jupyter-widgets/controls",
          "model_name": "HTMLModel",
          "state": {
            "_view_name": "HTMLView",
            "style": "IPY_MODEL_5b3e787b57d846d2bfaa6a2ff4a72d81",
            "_dom_classes": [],
            "description": "",
            "_model_name": "HTMLModel",
            "placeholder": "​",
            "_view_module": "@jupyter-widgets/controls",
            "_model_module_version": "1.5.0",
            "value": " 528M/528M [03:25&lt;00:00, 2.70MB/s]",
            "_view_count": null,
            "_view_module_version": "1.5.0",
            "description_tooltip": null,
            "_model_module": "@jupyter-widgets/controls",
            "layout": "IPY_MODEL_25a75d66c60c4608902d06837e2cf16d"
          }
        },
        "4f155c92efc34d2db4dbeb3de736ae92": {
          "model_module": "@jupyter-widgets/controls",
          "model_name": "ProgressStyleModel",
          "state": {
            "_view_name": "StyleView",
            "_model_name": "ProgressStyleModel",
            "description_width": "initial",
            "_view_module": "@jupyter-widgets/base",
            "_model_module_version": "1.5.0",
            "_view_count": null,
            "_view_module_version": "1.2.0",
            "bar_color": null,
            "_model_module": "@jupyter-widgets/controls"
          }
        },
        "ec7939e5555f42a79969da41c9a8964e": {
          "model_module": "@jupyter-widgets/base",
          "model_name": "LayoutModel",
          "state": {
            "_view_name": "LayoutView",
            "grid_template_rows": null,
            "right": null,
            "justify_content": null,
            "_view_module": "@jupyter-widgets/base",
            "overflow": null,
            "_model_module_version": "1.2.0",
            "_view_count": null,
            "flex_flow": null,
            "width": null,
            "min_width": null,
            "border": null,
            "align_items": null,
            "bottom": null,
            "_model_module": "@jupyter-widgets/base",
            "top": null,
            "grid_column": null,
            "overflow_y": null,
            "overflow_x": null,
            "grid_auto_flow": null,
            "grid_area": null,
            "grid_template_columns": null,
            "flex": null,
            "_model_name": "LayoutModel",
            "justify_items": null,
            "grid_row": null,
            "max_height": null,
            "align_content": null,
            "visibility": null,
            "align_self": null,
            "height": null,
            "min_height": null,
            "padding": null,
            "grid_auto_rows": null,
            "grid_gap": null,
            "max_width": null,
            "order": null,
            "_view_module_version": "1.2.0",
            "grid_template_areas": null,
            "object_position": null,
            "object_fit": null,
            "grid_auto_columns": null,
            "margin": null,
            "display": null,
            "left": null
          }
        },
        "5b3e787b57d846d2bfaa6a2ff4a72d81": {
          "model_module": "@jupyter-widgets/controls",
          "model_name": "DescriptionStyleModel",
          "state": {
            "_view_name": "StyleView",
            "_model_name": "DescriptionStyleModel",
            "description_width": "",
            "_view_module": "@jupyter-widgets/base",
            "_model_module_version": "1.5.0",
            "_view_count": null,
            "_view_module_version": "1.2.0",
            "_model_module": "@jupyter-widgets/controls"
          }
        },
        "25a75d66c60c4608902d06837e2cf16d": {
          "model_module": "@jupyter-widgets/base",
          "model_name": "LayoutModel",
          "state": {
            "_view_name": "LayoutView",
            "grid_template_rows": null,
            "right": null,
            "justify_content": null,
            "_view_module": "@jupyter-widgets/base",
            "overflow": null,
            "_model_module_version": "1.2.0",
            "_view_count": null,
            "flex_flow": null,
            "width": null,
            "min_width": null,
            "border": null,
            "align_items": null,
            "bottom": null,
            "_model_module": "@jupyter-widgets/base",
            "top": null,
            "grid_column": null,
            "overflow_y": null,
            "overflow_x": null,
            "grid_auto_flow": null,
            "grid_area": null,
            "grid_template_columns": null,
            "flex": null,
            "_model_name": "LayoutModel",
            "justify_items": null,
            "grid_row": null,
            "max_height": null,
            "align_content": null,
            "visibility": null,
            "align_self": null,
            "height": null,
            "min_height": null,
            "padding": null,
            "grid_auto_rows": null,
            "grid_gap": null,
            "max_width": null,
            "order": null,
            "_view_module_version": "1.2.0",
            "grid_template_areas": null,
            "object_position": null,
            "object_fit": null,
            "grid_auto_columns": null,
            "margin": null,
            "display": null,
            "left": null
          }
        },
        "88bc6a06ccdb446b84c9e886d2fbd891": {
          "model_module": "@jupyter-widgets/controls",
          "model_name": "HBoxModel",
          "state": {
            "_view_name": "HBoxView",
            "_dom_classes": [],
            "_model_name": "HBoxModel",
            "_view_module": "@jupyter-widgets/controls",
            "_model_module_version": "1.5.0",
            "_view_count": null,
            "_view_module_version": "1.5.0",
            "box_style": "",
            "layout": "IPY_MODEL_ee4506f4eedc47238f4e11ea8e47b6dd",
            "_model_module": "@jupyter-widgets/controls",
            "children": [
              "IPY_MODEL_3c0f5efcfc6d4f22a7805ad54ee56407",
              "IPY_MODEL_140eb40b98c14cb09294678dd9b1cdfd"
            ]
          }
        },
        "ee4506f4eedc47238f4e11ea8e47b6dd": {
          "model_module": "@jupyter-widgets/base",
          "model_name": "LayoutModel",
          "state": {
            "_view_name": "LayoutView",
            "grid_template_rows": null,
            "right": null,
            "justify_content": null,
            "_view_module": "@jupyter-widgets/base",
            "overflow": null,
            "_model_module_version": "1.2.0",
            "_view_count": null,
            "flex_flow": null,
            "width": null,
            "min_width": null,
            "border": null,
            "align_items": null,
            "bottom": null,
            "_model_module": "@jupyter-widgets/base",
            "top": null,
            "grid_column": null,
            "overflow_y": null,
            "overflow_x": null,
            "grid_auto_flow": null,
            "grid_area": null,
            "grid_template_columns": null,
            "flex": null,
            "_model_name": "LayoutModel",
            "justify_items": null,
            "grid_row": null,
            "max_height": null,
            "align_content": null,
            "visibility": null,
            "align_self": null,
            "height": null,
            "min_height": null,
            "padding": null,
            "grid_auto_rows": null,
            "grid_gap": null,
            "max_width": null,
            "order": null,
            "_view_module_version": "1.2.0",
            "grid_template_areas": null,
            "object_position": null,
            "object_fit": null,
            "grid_auto_columns": null,
            "margin": null,
            "display": null,
            "left": null
          }
        },
        "3c0f5efcfc6d4f22a7805ad54ee56407": {
          "model_module": "@jupyter-widgets/controls",
          "model_name": "FloatProgressModel",
          "state": {
            "_view_name": "ProgressView",
            "style": "IPY_MODEL_08b47078c72f4692bcd408f28fdca92d",
            "_dom_classes": [],
            "description": "100%",
            "_model_name": "FloatProgressModel",
            "bar_style": "success",
            "max": 46827520,
            "_view_module": "@jupyter-widgets/controls",
            "_model_module_version": "1.5.0",
            "value": 46827520,
            "_view_count": null,
            "_view_module_version": "1.5.0",
            "orientation": "horizontal",
            "min": 0,
            "description_tooltip": null,
            "_model_module": "@jupyter-widgets/controls",
            "layout": "IPY_MODEL_ce211db0fc18418980deafb2f59dba51"
          }
        },
        "140eb40b98c14cb09294678dd9b1cdfd": {
          "model_module": "@jupyter-widgets/controls",
          "model_name": "HTMLModel",
          "state": {
            "_view_name": "HTMLView",
            "style": "IPY_MODEL_504d7e765b3e493fa2da5285e109315c",
            "_dom_classes": [],
            "description": "",
            "_model_name": "HTMLModel",
            "placeholder": "​",
            "_view_module": "@jupyter-widgets/controls",
            "_model_module_version": "1.5.0",
            "value": " 44.7M/44.7M [00:00&lt;00:00, 143MB/s]",
            "_view_count": null,
            "_view_module_version": "1.5.0",
            "description_tooltip": null,
            "_model_module": "@jupyter-widgets/controls",
            "layout": "IPY_MODEL_faf0d725f3e94716afba0022b328a4aa"
          }
        },
        "08b47078c72f4692bcd408f28fdca92d": {
          "model_module": "@jupyter-widgets/controls",
          "model_name": "ProgressStyleModel",
          "state": {
            "_view_name": "StyleView",
            "_model_name": "ProgressStyleModel",
            "description_width": "initial",
            "_view_module": "@jupyter-widgets/base",
            "_model_module_version": "1.5.0",
            "_view_count": null,
            "_view_module_version": "1.2.0",
            "bar_color": null,
            "_model_module": "@jupyter-widgets/controls"
          }
        },
        "ce211db0fc18418980deafb2f59dba51": {
          "model_module": "@jupyter-widgets/base",
          "model_name": "LayoutModel",
          "state": {
            "_view_name": "LayoutView",
            "grid_template_rows": null,
            "right": null,
            "justify_content": null,
            "_view_module": "@jupyter-widgets/base",
            "overflow": null,
            "_model_module_version": "1.2.0",
            "_view_count": null,
            "flex_flow": null,
            "width": null,
            "min_width": null,
            "border": null,
            "align_items": null,
            "bottom": null,
            "_model_module": "@jupyter-widgets/base",
            "top": null,
            "grid_column": null,
            "overflow_y": null,
            "overflow_x": null,
            "grid_auto_flow": null,
            "grid_area": null,
            "grid_template_columns": null,
            "flex": null,
            "_model_name": "LayoutModel",
            "justify_items": null,
            "grid_row": null,
            "max_height": null,
            "align_content": null,
            "visibility": null,
            "align_self": null,
            "height": null,
            "min_height": null,
            "padding": null,
            "grid_auto_rows": null,
            "grid_gap": null,
            "max_width": null,
            "order": null,
            "_view_module_version": "1.2.0",
            "grid_template_areas": null,
            "object_position": null,
            "object_fit": null,
            "grid_auto_columns": null,
            "margin": null,
            "display": null,
            "left": null
          }
        },
        "504d7e765b3e493fa2da5285e109315c": {
          "model_module": "@jupyter-widgets/controls",
          "model_name": "DescriptionStyleModel",
          "state": {
            "_view_name": "StyleView",
            "_model_name": "DescriptionStyleModel",
            "description_width": "",
            "_view_module": "@jupyter-widgets/base",
            "_model_module_version": "1.5.0",
            "_view_count": null,
            "_view_module_version": "1.2.0",
            "_model_module": "@jupyter-widgets/controls"
          }
        },
        "faf0d725f3e94716afba0022b328a4aa": {
          "model_module": "@jupyter-widgets/base",
          "model_name": "LayoutModel",
          "state": {
            "_view_name": "LayoutView",
            "grid_template_rows": null,
            "right": null,
            "justify_content": null,
            "_view_module": "@jupyter-widgets/base",
            "overflow": null,
            "_model_module_version": "1.2.0",
            "_view_count": null,
            "flex_flow": null,
            "width": null,
            "min_width": null,
            "border": null,
            "align_items": null,
            "bottom": null,
            "_model_module": "@jupyter-widgets/base",
            "top": null,
            "grid_column": null,
            "overflow_y": null,
            "overflow_x": null,
            "grid_auto_flow": null,
            "grid_area": null,
            "grid_template_columns": null,
            "flex": null,
            "_model_name": "LayoutModel",
            "justify_items": null,
            "grid_row": null,
            "max_height": null,
            "align_content": null,
            "visibility": null,
            "align_self": null,
            "height": null,
            "min_height": null,
            "padding": null,
            "grid_auto_rows": null,
            "grid_gap": null,
            "max_width": null,
            "order": null,
            "_view_module_version": "1.2.0",
            "grid_template_areas": null,
            "object_position": null,
            "object_fit": null,
            "grid_auto_columns": null,
            "margin": null,
            "display": null,
            "left": null
          }
        },
        "b322683eb63f4b759c102a4ef9e3c207": {
          "model_module": "@jupyter-widgets/controls",
          "model_name": "HBoxModel",
          "state": {
            "_view_name": "HBoxView",
            "_dom_classes": [],
            "_model_name": "HBoxModel",
            "_view_module": "@jupyter-widgets/controls",
            "_model_module_version": "1.5.0",
            "_view_count": null,
            "_view_module_version": "1.5.0",
            "box_style": "",
            "layout": "IPY_MODEL_f58f4c288946425cb0d5560397a0fc5e",
            "_model_module": "@jupyter-widgets/controls",
            "children": [
              "IPY_MODEL_78101d7c269545699b2f73cab04b5072",
              "IPY_MODEL_d3aca83c9e5144f097b6e15ba99bcdd8"
            ]
          }
        },
        "f58f4c288946425cb0d5560397a0fc5e": {
          "model_module": "@jupyter-widgets/base",
          "model_name": "LayoutModel",
          "state": {
            "_view_name": "LayoutView",
            "grid_template_rows": null,
            "right": null,
            "justify_content": null,
            "_view_module": "@jupyter-widgets/base",
            "overflow": null,
            "_model_module_version": "1.2.0",
            "_view_count": null,
            "flex_flow": null,
            "width": null,
            "min_width": null,
            "border": null,
            "align_items": null,
            "bottom": null,
            "_model_module": "@jupyter-widgets/base",
            "top": null,
            "grid_column": null,
            "overflow_y": null,
            "overflow_x": null,
            "grid_auto_flow": null,
            "grid_area": null,
            "grid_template_columns": null,
            "flex": null,
            "_model_name": "LayoutModel",
            "justify_items": null,
            "grid_row": null,
            "max_height": null,
            "align_content": null,
            "visibility": null,
            "align_self": null,
            "height": null,
            "min_height": null,
            "padding": null,
            "grid_auto_rows": null,
            "grid_gap": null,
            "max_width": null,
            "order": null,
            "_view_module_version": "1.2.0",
            "grid_template_areas": null,
            "object_position": null,
            "object_fit": null,
            "grid_auto_columns": null,
            "margin": null,
            "display": null,
            "left": null
          }
        },
        "78101d7c269545699b2f73cab04b5072": {
          "model_module": "@jupyter-widgets/controls",
          "model_name": "FloatProgressModel",
          "state": {
            "_view_name": "ProgressView",
            "style": "IPY_MODEL_34774cde6d494a0c80d109037de6cf65",
            "_dom_classes": [],
            "description": "100%",
            "_model_name": "FloatProgressModel",
            "bar_style": "success",
            "max": 32342954,
            "_view_module": "@jupyter-widgets/controls",
            "_model_module_version": "1.5.0",
            "value": 32342954,
            "_view_count": null,
            "_view_module_version": "1.5.0",
            "orientation": "horizontal",
            "min": 0,
            "description_tooltip": null,
            "_model_module": "@jupyter-widgets/controls",
            "layout": "IPY_MODEL_86144c8acd584e9e966ae0405e98f30d"
          }
        },
        "d3aca83c9e5144f097b6e15ba99bcdd8": {
          "model_module": "@jupyter-widgets/controls",
          "model_name": "HTMLModel",
          "state": {
            "_view_name": "HTMLView",
            "style": "IPY_MODEL_7275d255b90b46e4bdb46a820a99bb50",
            "_dom_classes": [],
            "description": "",
            "_model_name": "HTMLModel",
            "placeholder": "​",
            "_view_module": "@jupyter-widgets/controls",
            "_model_module_version": "1.5.0",
            "value": " 30.8M/30.8M [00:01&lt;00:00, 31.0MB/s]",
            "_view_count": null,
            "_view_module_version": "1.5.0",
            "description_tooltip": null,
            "_model_module": "@jupyter-widgets/controls",
            "layout": "IPY_MODEL_631ff33212aa4c22b2aefcbf97dd6752"
          }
        },
        "34774cde6d494a0c80d109037de6cf65": {
          "model_module": "@jupyter-widgets/controls",
          "model_name": "ProgressStyleModel",
          "state": {
            "_view_name": "StyleView",
            "_model_name": "ProgressStyleModel",
            "description_width": "initial",
            "_view_module": "@jupyter-widgets/base",
            "_model_module_version": "1.5.0",
            "_view_count": null,
            "_view_module_version": "1.2.0",
            "bar_color": null,
            "_model_module": "@jupyter-widgets/controls"
          }
        },
        "86144c8acd584e9e966ae0405e98f30d": {
          "model_module": "@jupyter-widgets/base",
          "model_name": "LayoutModel",
          "state": {
            "_view_name": "LayoutView",
            "grid_template_rows": null,
            "right": null,
            "justify_content": null,
            "_view_module": "@jupyter-widgets/base",
            "overflow": null,
            "_model_module_version": "1.2.0",
            "_view_count": null,
            "flex_flow": null,
            "width": null,
            "min_width": null,
            "border": null,
            "align_items": null,
            "bottom": null,
            "_model_module": "@jupyter-widgets/base",
            "top": null,
            "grid_column": null,
            "overflow_y": null,
            "overflow_x": null,
            "grid_auto_flow": null,
            "grid_area": null,
            "grid_template_columns": null,
            "flex": null,
            "_model_name": "LayoutModel",
            "justify_items": null,
            "grid_row": null,
            "max_height": null,
            "align_content": null,
            "visibility": null,
            "align_self": null,
            "height": null,
            "min_height": null,
            "padding": null,
            "grid_auto_rows": null,
            "grid_gap": null,
            "max_width": null,
            "order": null,
            "_view_module_version": "1.2.0",
            "grid_template_areas": null,
            "object_position": null,
            "object_fit": null,
            "grid_auto_columns": null,
            "margin": null,
            "display": null,
            "left": null
          }
        },
        "7275d255b90b46e4bdb46a820a99bb50": {
          "model_module": "@jupyter-widgets/controls",
          "model_name": "DescriptionStyleModel",
          "state": {
            "_view_name": "StyleView",
            "_model_name": "DescriptionStyleModel",
            "description_width": "",
            "_view_module": "@jupyter-widgets/base",
            "_model_module_version": "1.5.0",
            "_view_count": null,
            "_view_module_version": "1.2.0",
            "_model_module": "@jupyter-widgets/controls"
          }
        },
        "631ff33212aa4c22b2aefcbf97dd6752": {
          "model_module": "@jupyter-widgets/base",
          "model_name": "LayoutModel",
          "state": {
            "_view_name": "LayoutView",
            "grid_template_rows": null,
            "right": null,
            "justify_content": null,
            "_view_module": "@jupyter-widgets/base",
            "overflow": null,
            "_model_module_version": "1.2.0",
            "_view_count": null,
            "flex_flow": null,
            "width": null,
            "min_width": null,
            "border": null,
            "align_items": null,
            "bottom": null,
            "_model_module": "@jupyter-widgets/base",
            "top": null,
            "grid_column": null,
            "overflow_y": null,
            "overflow_x": null,
            "grid_auto_flow": null,
            "grid_area": null,
            "grid_template_columns": null,
            "flex": null,
            "_model_name": "LayoutModel",
            "justify_items": null,
            "grid_row": null,
            "max_height": null,
            "align_content": null,
            "visibility": null,
            "align_self": null,
            "height": null,
            "min_height": null,
            "padding": null,
            "grid_auto_rows": null,
            "grid_gap": null,
            "max_width": null,
            "order": null,
            "_view_module_version": "1.2.0",
            "grid_template_areas": null,
            "object_position": null,
            "object_fit": null,
            "grid_auto_columns": null,
            "margin": null,
            "display": null,
            "left": null
          }
        }
      }
    }
  },
  "cells": [
    {
      "cell_type": "code",
      "metadata": {
        "id": "j6Lx3muqILWw"
      },
      "source": [
        "import torch\n",
        "import torch.nn as nn\n",
        "import torch.optim as optim\n",
        "\n",
        "import torchvision.datasets as datasets\n",
        "from torch.utils.data import DataLoader, WeightedRandomSampler\n",
        "\n",
        "import utils\n",
        "import networks"
      ],
      "execution_count": 1,
      "outputs": []
    },
    {
      "cell_type": "code",
      "metadata": {
        "id": "zD9VVf7tILXC"
      },
      "source": [
        "train_set = datasets.ImageFolder(root=utils.dirs['train'], transform=utils.transform['train'])\n",
        "val_set = datasets.ImageFolder(root=utils.dirs['val'], transform=utils.transform['val'])"
      ],
      "execution_count": 2,
      "outputs": []
    },
    {
      "cell_type": "code",
      "metadata": {
        "id": "L9y7jDG-ILXD"
      },
      "source": [
        "class_freq = torch.as_tensor(train_set.targets).bincount()\n",
        "weight = 1 / class_freq\n",
        "samples_weight = weight[train_set.targets]\n",
        "sampler = WeightedRandomSampler(samples_weight, len(samples_weight), replacement=True)\n",
        "\n",
        "train_dl = DataLoader(train_set, batch_size=32, sampler=sampler, num_workers=2, worker_init_fn=utils.wif)\n",
        "valid_dl = DataLoader(val_set, batch_size=40)"
      ],
      "execution_count": 3,
      "outputs": []
    },
    {
      "cell_type": "code",
      "metadata": {
        "id": "7CoH0oRlUq2d"
      },
      "source": [
        "epochs = 15\n",
        "criterion = nn.CrossEntropyLoss()"
      ],
      "execution_count": 4,
      "outputs": []
    },
    {
      "cell_type": "code",
      "metadata": {
        "colab": {
          "base_uri": "https://localhost:8080/",
          "height": 81,
          "referenced_widgets": [
            "1f9f782e1dbc4d49b569797bfba5cb0d",
            "7f5f4f78acfd4d5ca29a520ed20e9202",
            "a4f9a4b3fd6240f396022d8f9bf553c5",
            "55941f406ffd44f6b75152b74425ce36",
            "4f155c92efc34d2db4dbeb3de736ae92",
            "ec7939e5555f42a79969da41c9a8964e",
            "5b3e787b57d846d2bfaa6a2ff4a72d81",
            "25a75d66c60c4608902d06837e2cf16d"
          ]
        },
        "id": "Piv8d2I4Uq2e",
        "outputId": "89e915e6-d817-4300-8b02-d015ce8e248d"
      },
      "source": [
        "vgg16 = networks.get_vgg16(pretrained=True, out_features=4)"
      ],
      "execution_count": 5,
      "outputs": [
        {
          "output_type": "stream",
          "text": [
            "Downloading: \"https://download.pytorch.org/models/vgg16-397923af.pth\" to /root/.cache/torch/hub/checkpoints/vgg16-397923af.pth\n"
          ],
          "name": "stderr"
        },
        {
          "output_type": "display_data",
          "data": {
            "application/vnd.jupyter.widget-view+json": {
              "model_id": "1f9f782e1dbc4d49b569797bfba5cb0d",
              "version_minor": 0,
              "version_major": 2
            },
            "text/plain": [
              "HBox(children=(FloatProgress(value=0.0, max=553433881.0), HTML(value='')))"
            ]
          },
          "metadata": {
            "tags": []
          }
        },
        {
          "output_type": "stream",
          "text": [
            "\n"
          ],
          "name": "stdout"
        }
      ]
    },
    {
      "cell_type": "code",
      "metadata": {
        "colab": {
          "base_uri": "https://localhost:8080/"
        },
        "id": "90ol63KFUq2e",
        "outputId": "ab14fa54-db65-4ea7-ec74-743eb653d758"
      },
      "source": [
        "utils.fit(\n",
        "    epochs=epochs,\n",
        "    model=vgg16,\n",
        "    criterion=criterion,\n",
        "    optimizer=optim.Adam(vgg16.parameters(), lr=3e-5),\n",
        "    train_dl=train_dl,\n",
        "    valid_dl=valid_dl\n",
        ")"
      ],
      "execution_count": 6,
      "outputs": [
        {
          "output_type": "stream",
          "text": [
            "Epoch [ 1/15]: 100%|██████████| 657/657 [05:23<00:00,  2.03it/s, acc=0.906, loss=0.0023]\n"
          ],
          "name": "stderr"
        },
        {
          "output_type": "stream",
          "text": [
            "\n",
            "\t\tAvg train loss: 0.255749\tAvg valid loss: 0.048611\n",
            "\n",
            "\t\tvalid_loss decreased (inf -> 0.048611)\n",
            "\t\tsaving model...\n",
            "\n"
          ],
          "name": "stdout"
        },
        {
          "output_type": "stream",
          "text": [
            "Epoch [ 2/15]: 100%|██████████| 657/657 [05:39<00:00,  1.93it/s, acc=0.959, loss=0.00792]\n"
          ],
          "name": "stderr"
        },
        {
          "output_type": "stream",
          "text": [
            "\n",
            "\t\tAvg train loss: 0.118382\tAvg valid loss: 0.042556\n",
            "\n",
            "\t\tvalid_loss decreased (0.048611 -> 0.042556)\n",
            "\t\tsaving model...\n",
            "\n"
          ],
          "name": "stdout"
        },
        {
          "output_type": "stream",
          "text": [
            "Epoch [ 3/15]: 100%|██████████| 657/657 [05:40<00:00,  1.93it/s, acc=0.965, loss=0.00859]\n"
          ],
          "name": "stderr"
        },
        {
          "output_type": "stream",
          "text": [
            "\n",
            "\t\tAvg train loss: 0.097360\tAvg valid loss: 0.029283\n",
            "\n",
            "\t\tvalid_loss decreased (0.042556 -> 0.029283)\n",
            "\t\tsaving model...\n",
            "\n"
          ],
          "name": "stdout"
        },
        {
          "output_type": "stream",
          "text": [
            "Epoch [ 4/15]: 100%|██████████| 657/657 [05:40<00:00,  1.93it/s, acc=0.973, loss=0.00802]\n"
          ],
          "name": "stderr"
        },
        {
          "output_type": "stream",
          "text": [
            "\n",
            "\t\tAvg train loss: 0.077337\tAvg valid loss: 0.045282\n",
            "\n"
          ],
          "name": "stdout"
        },
        {
          "output_type": "stream",
          "text": [
            "Epoch [ 5/15]: 100%|██████████| 657/657 [05:40<00:00,  1.93it/s, acc=0.975, loss=0.086]\n"
          ],
          "name": "stderr"
        },
        {
          "output_type": "stream",
          "text": [
            "\n",
            "\t\tAvg train loss: 0.072999\tAvg valid loss: 0.034813\n",
            "\n"
          ],
          "name": "stdout"
        },
        {
          "output_type": "stream",
          "text": [
            "Epoch [ 6/15]: 100%|██████████| 657/657 [05:40<00:00,  1.93it/s, acc=0.978, loss=0.00252]\n"
          ],
          "name": "stderr"
        },
        {
          "output_type": "stream",
          "text": [
            "\n",
            "\t\tAvg train loss: 0.063818\tAvg valid loss: 0.048239\n",
            "\n"
          ],
          "name": "stdout"
        },
        {
          "output_type": "stream",
          "text": [
            "Epoch [ 7/15]: 100%|██████████| 657/657 [05:39<00:00,  1.93it/s, acc=0.98, loss=0.0129]\n"
          ],
          "name": "stderr"
        },
        {
          "output_type": "stream",
          "text": [
            "\n",
            "\t\tAvg train loss: 0.053751\tAvg valid loss: 0.025886\n",
            "\n",
            "\t\tvalid_loss decreased (0.029283 -> 0.025886)\n",
            "\t\tsaving model...\n",
            "\n"
          ],
          "name": "stdout"
        },
        {
          "output_type": "stream",
          "text": [
            "Epoch [ 8/15]: 100%|██████████| 657/657 [05:39<00:00,  1.93it/s, acc=0.983, loss=0.0208]\n"
          ],
          "name": "stderr"
        },
        {
          "output_type": "stream",
          "text": [
            "\n",
            "\t\tAvg train loss: 0.048574\tAvg valid loss: 0.024360\n",
            "\n",
            "\t\tvalid_loss decreased (0.025886 -> 0.024360)\n",
            "\t\tsaving model...\n",
            "\n"
          ],
          "name": "stdout"
        },
        {
          "output_type": "stream",
          "text": [
            "Epoch [ 9/15]: 100%|██████████| 657/657 [05:39<00:00,  1.93it/s, acc=0.986, loss=0.00788]\n"
          ],
          "name": "stderr"
        },
        {
          "output_type": "stream",
          "text": [
            "\n",
            "\t\tAvg train loss: 0.040675\tAvg valid loss: 0.011793\n",
            "\n",
            "\t\tvalid_loss decreased (0.024360 -> 0.011793)\n",
            "\t\tsaving model...\n",
            "\n"
          ],
          "name": "stdout"
        },
        {
          "output_type": "stream",
          "text": [
            "Epoch [10/15]: 100%|██████████| 657/657 [05:40<00:00,  1.93it/s, acc=0.987, loss=0.03]\n"
          ],
          "name": "stderr"
        },
        {
          "output_type": "stream",
          "text": [
            "\n",
            "\t\tAvg train loss: 0.039429\tAvg valid loss: 0.032189\n",
            "\n"
          ],
          "name": "stdout"
        },
        {
          "output_type": "stream",
          "text": [
            "Epoch [11/15]: 100%|██████████| 657/657 [05:39<00:00,  1.93it/s, acc=0.988, loss=0.0281]\n"
          ],
          "name": "stderr"
        },
        {
          "output_type": "stream",
          "text": [
            "\n",
            "\t\tAvg train loss: 0.036186\tAvg valid loss: 0.009234\n",
            "\n",
            "\t\tvalid_loss decreased (0.011793 -> 0.009234)\n",
            "\t\tsaving model...\n",
            "\n"
          ],
          "name": "stdout"
        },
        {
          "output_type": "stream",
          "text": [
            "Epoch [12/15]: 100%|██████████| 657/657 [05:39<00:00,  1.94it/s, acc=0.991, loss=0.00212]\n"
          ],
          "name": "stderr"
        },
        {
          "output_type": "stream",
          "text": [
            "\n",
            "\t\tAvg train loss: 0.028152\tAvg valid loss: 0.021888\n",
            "\n"
          ],
          "name": "stdout"
        },
        {
          "output_type": "stream",
          "text": [
            "Epoch [13/15]: 100%|██████████| 657/657 [05:39<00:00,  1.93it/s, acc=0.991, loss=0.000217]\n"
          ],
          "name": "stderr"
        },
        {
          "output_type": "stream",
          "text": [
            "\n",
            "\t\tAvg train loss: 0.029274\tAvg valid loss: 0.008455\n",
            "\n",
            "\t\tvalid_loss decreased (0.009234 -> 0.008455)\n",
            "\t\tsaving model...\n",
            "\n"
          ],
          "name": "stdout"
        },
        {
          "output_type": "stream",
          "text": [
            "Epoch [14/15]: 100%|██████████| 657/657 [05:39<00:00,  1.94it/s, acc=0.991, loss=0.00219]\n"
          ],
          "name": "stderr"
        },
        {
          "output_type": "stream",
          "text": [
            "\n",
            "\t\tAvg train loss: 0.028827\tAvg valid loss: 0.027854\n",
            "\n"
          ],
          "name": "stdout"
        },
        {
          "output_type": "stream",
          "text": [
            "Epoch [15/15]: 100%|██████████| 657/657 [05:39<00:00,  1.93it/s, acc=0.993, loss=9.16e-5]\n"
          ],
          "name": "stderr"
        },
        {
          "output_type": "stream",
          "text": [
            "\n",
            "\t\tAvg train loss: 0.020973\tAvg valid loss: 0.018448\n",
            "\n"
          ],
          "name": "stdout"
        }
      ]
    },
    {
      "cell_type": "code",
      "metadata": {
        "colab": {
          "base_uri": "https://localhost:8080/",
          "height": 81,
          "referenced_widgets": [
            "88bc6a06ccdb446b84c9e886d2fbd891",
            "ee4506f4eedc47238f4e11ea8e47b6dd",
            "3c0f5efcfc6d4f22a7805ad54ee56407",
            "140eb40b98c14cb09294678dd9b1cdfd",
            "08b47078c72f4692bcd408f28fdca92d",
            "ce211db0fc18418980deafb2f59dba51",
            "504d7e765b3e493fa2da5285e109315c",
            "faf0d725f3e94716afba0022b328a4aa"
          ]
        },
        "id": "EOS__UpqUq2f",
        "outputId": "13bbb9ee-64c1-489b-cb1c-64a553cb1ed7"
      },
      "source": [
        "resnet18 = networks.get_resnet18(pretrained=True, out_features=4)"
      ],
      "execution_count": 7,
      "outputs": [
        {
          "output_type": "stream",
          "text": [
            "Downloading: \"https://download.pytorch.org/models/resnet18-5c106cde.pth\" to /root/.cache/torch/hub/checkpoints/resnet18-5c106cde.pth\n"
          ],
          "name": "stderr"
        },
        {
          "output_type": "display_data",
          "data": {
            "application/vnd.jupyter.widget-view+json": {
              "model_id": "88bc6a06ccdb446b84c9e886d2fbd891",
              "version_minor": 0,
              "version_major": 2
            },
            "text/plain": [
              "HBox(children=(FloatProgress(value=0.0, max=46827520.0), HTML(value='')))"
            ]
          },
          "metadata": {
            "tags": []
          }
        },
        {
          "output_type": "stream",
          "text": [
            "\n"
          ],
          "name": "stdout"
        }
      ]
    },
    {
      "cell_type": "code",
      "metadata": {
        "colab": {
          "base_uri": "https://localhost:8080/"
        },
        "id": "IoH23wktILXG",
        "outputId": "0e108c9b-b765-47fa-95b9-4505074ba611"
      },
      "source": [
        "utils.fit(\n",
        "    epochs=epochs,\n",
        "    model=resnet18,\n",
        "    criterion=criterion,\n",
        "    optimizer=optim.Adam(resnet18.parameters(), lr=3e-5),\n",
        "    train_dl=train_dl,\n",
        "    valid_dl=valid_dl\n",
        ")"
      ],
      "execution_count": 8,
      "outputs": [
        {
          "output_type": "stream",
          "text": [
            "Epoch [ 1/15]: 100%|██████████| 657/657 [01:31<00:00,  7.15it/s, acc=0.914, loss=0.123]\n"
          ],
          "name": "stderr"
        },
        {
          "output_type": "stream",
          "text": [
            "\n",
            "\t\tAvg train loss: 0.244047\tAvg valid loss: 0.079467\n",
            "\n",
            "\t\tvalid_loss decreased (inf -> 0.079467)\n",
            "\t\tsaving model...\n",
            "\n"
          ],
          "name": "stdout"
        },
        {
          "output_type": "stream",
          "text": [
            "Epoch [ 2/15]: 100%|██████████| 657/657 [01:31<00:00,  7.22it/s, acc=0.961, loss=0.00343]\n"
          ],
          "name": "stderr"
        },
        {
          "output_type": "stream",
          "text": [
            "\n",
            "\t\tAvg train loss: 0.112250\tAvg valid loss: 0.063980\n",
            "\n",
            "\t\tvalid_loss decreased (0.079467 -> 0.063980)\n",
            "\t\tsaving model...\n",
            "\n"
          ],
          "name": "stdout"
        },
        {
          "output_type": "stream",
          "text": [
            "Epoch [ 3/15]: 100%|██████████| 657/657 [01:31<00:00,  7.20it/s, acc=0.969, loss=0.023]\n"
          ],
          "name": "stderr"
        },
        {
          "output_type": "stream",
          "text": [
            "\n",
            "\t\tAvg train loss: 0.088909\tAvg valid loss: 0.059052\n",
            "\n",
            "\t\tvalid_loss decreased (0.063980 -> 0.059052)\n",
            "\t\tsaving model...\n",
            "\n"
          ],
          "name": "stdout"
        },
        {
          "output_type": "stream",
          "text": [
            "Epoch [ 4/15]: 100%|██████████| 657/657 [01:35<00:00,  6.89it/s, acc=0.975, loss=0.102]\n"
          ],
          "name": "stderr"
        },
        {
          "output_type": "stream",
          "text": [
            "\n",
            "\t\tAvg train loss: 0.069555\tAvg valid loss: 0.071787\n",
            "\n"
          ],
          "name": "stdout"
        },
        {
          "output_type": "stream",
          "text": [
            "Epoch [ 5/15]: 100%|██████████| 657/657 [01:32<00:00,  7.13it/s, acc=0.983, loss=0.0116]\n"
          ],
          "name": "stderr"
        },
        {
          "output_type": "stream",
          "text": [
            "\n",
            "\t\tAvg train loss: 0.054808\tAvg valid loss: 0.042883\n",
            "\n",
            "\t\tvalid_loss decreased (0.059052 -> 0.042883)\n",
            "\t\tsaving model...\n",
            "\n"
          ],
          "name": "stdout"
        },
        {
          "output_type": "stream",
          "text": [
            "Epoch [ 6/15]: 100%|██████████| 657/657 [01:32<00:00,  7.12it/s, acc=0.985, loss=0.0205]\n"
          ],
          "name": "stderr"
        },
        {
          "output_type": "stream",
          "text": [
            "\n",
            "\t\tAvg train loss: 0.046883\tAvg valid loss: 0.064281\n",
            "\n"
          ],
          "name": "stdout"
        },
        {
          "output_type": "stream",
          "text": [
            "Epoch [ 7/15]: 100%|██████████| 657/657 [01:32<00:00,  7.13it/s, acc=0.988, loss=0.19]\n"
          ],
          "name": "stderr"
        },
        {
          "output_type": "stream",
          "text": [
            "\n",
            "\t\tAvg train loss: 0.038470\tAvg valid loss: 0.070975\n",
            "\n"
          ],
          "name": "stdout"
        },
        {
          "output_type": "stream",
          "text": [
            "Epoch [ 8/15]: 100%|██████████| 657/657 [01:32<00:00,  7.12it/s, acc=0.989, loss=0.0652]\n"
          ],
          "name": "stderr"
        },
        {
          "output_type": "stream",
          "text": [
            "\n",
            "\t\tAvg train loss: 0.033845\tAvg valid loss: 0.019293\n",
            "\n",
            "\t\tvalid_loss decreased (0.042883 -> 0.019293)\n",
            "\t\tsaving model...\n",
            "\n"
          ],
          "name": "stdout"
        },
        {
          "output_type": "stream",
          "text": [
            "Epoch [ 9/15]: 100%|██████████| 657/657 [01:32<00:00,  7.12it/s, acc=0.991, loss=0.0474]\n"
          ],
          "name": "stderr"
        },
        {
          "output_type": "stream",
          "text": [
            "\n",
            "\t\tAvg train loss: 0.026869\tAvg valid loss: 0.020838\n",
            "\n"
          ],
          "name": "stdout"
        },
        {
          "output_type": "stream",
          "text": [
            "Epoch [10/15]: 100%|██████████| 657/657 [01:32<00:00,  7.10it/s, acc=0.991, loss=0.0129]\n"
          ],
          "name": "stderr"
        },
        {
          "output_type": "stream",
          "text": [
            "\n",
            "\t\tAvg train loss: 0.026900\tAvg valid loss: 0.036035\n",
            "\n"
          ],
          "name": "stdout"
        },
        {
          "output_type": "stream",
          "text": [
            "Epoch [11/15]: 100%|██████████| 657/657 [01:32<00:00,  7.09it/s, acc=0.994, loss=0.000455]\n"
          ],
          "name": "stderr"
        },
        {
          "output_type": "stream",
          "text": [
            "\n",
            "\t\tAvg train loss: 0.020515\tAvg valid loss: 0.018541\n",
            "\n",
            "\t\tvalid_loss decreased (0.019293 -> 0.018541)\n",
            "\t\tsaving model...\n",
            "\n"
          ],
          "name": "stdout"
        },
        {
          "output_type": "stream",
          "text": [
            "Epoch [12/15]: 100%|██████████| 657/657 [01:33<00:00,  7.04it/s, acc=0.994, loss=0.0217]\n"
          ],
          "name": "stderr"
        },
        {
          "output_type": "stream",
          "text": [
            "\n",
            "\t\tAvg train loss: 0.018105\tAvg valid loss: 0.047103\n",
            "\n"
          ],
          "name": "stdout"
        },
        {
          "output_type": "stream",
          "text": [
            "Epoch [13/15]: 100%|██████████| 657/657 [01:32<00:00,  7.10it/s, acc=0.995, loss=0.0471]\n"
          ],
          "name": "stderr"
        },
        {
          "output_type": "stream",
          "text": [
            "\n",
            "\t\tAvg train loss: 0.015677\tAvg valid loss: 0.017938\n",
            "\n",
            "\t\tvalid_loss decreased (0.018541 -> 0.017938)\n",
            "\t\tsaving model...\n",
            "\n"
          ],
          "name": "stdout"
        },
        {
          "output_type": "stream",
          "text": [
            "Epoch [14/15]: 100%|██████████| 657/657 [01:33<00:00,  7.06it/s, acc=0.996, loss=0.0136]\n"
          ],
          "name": "stderr"
        },
        {
          "output_type": "stream",
          "text": [
            "\n",
            "\t\tAvg train loss: 0.013598\tAvg valid loss: 0.134736\n",
            "\n"
          ],
          "name": "stdout"
        },
        {
          "output_type": "stream",
          "text": [
            "Epoch [15/15]: 100%|██████████| 657/657 [01:33<00:00,  7.04it/s, acc=0.994, loss=0.00201]\n"
          ],
          "name": "stderr"
        },
        {
          "output_type": "stream",
          "text": [
            "\n",
            "\t\tAvg train loss: 0.016365\tAvg valid loss: 0.020682\n",
            "\n"
          ],
          "name": "stdout"
        }
      ]
    },
    {
      "cell_type": "code",
      "metadata": {
        "colab": {
          "base_uri": "https://localhost:8080/",
          "height": 81,
          "referenced_widgets": [
            "b322683eb63f4b759c102a4ef9e3c207",
            "f58f4c288946425cb0d5560397a0fc5e",
            "78101d7c269545699b2f73cab04b5072",
            "d3aca83c9e5144f097b6e15ba99bcdd8",
            "34774cde6d494a0c80d109037de6cf65",
            "86144c8acd584e9e966ae0405e98f30d",
            "7275d255b90b46e4bdb46a820a99bb50",
            "631ff33212aa4c22b2aefcbf97dd6752"
          ]
        },
        "id": "eD0K2-rZUq2g",
        "outputId": "b1cc2115-090f-4002-ec04-6506f181d0e4"
      },
      "source": [
        "densenet121 = networks.get_densenet121(pretrained=True, out_features=4)"
      ],
      "execution_count": 9,
      "outputs": [
        {
          "output_type": "stream",
          "text": [
            "Downloading: \"https://download.pytorch.org/models/densenet121-a639ec97.pth\" to /root/.cache/torch/hub/checkpoints/densenet121-a639ec97.pth\n"
          ],
          "name": "stderr"
        },
        {
          "output_type": "display_data",
          "data": {
            "application/vnd.jupyter.widget-view+json": {
              "model_id": "b322683eb63f4b759c102a4ef9e3c207",
              "version_minor": 0,
              "version_major": 2
            },
            "text/plain": [
              "HBox(children=(FloatProgress(value=0.0, max=32342954.0), HTML(value='')))"
            ]
          },
          "metadata": {
            "tags": []
          }
        },
        {
          "output_type": "stream",
          "text": [
            "\n"
          ],
          "name": "stdout"
        }
      ]
    },
    {
      "cell_type": "code",
      "metadata": {
        "colab": {
          "base_uri": "https://localhost:8080/"
        },
        "id": "lW-RcxAGUq2h",
        "outputId": "53fade1a-f599-41b1-f7b5-dc9691067ae9"
      },
      "source": [
        "utils.fit(\n",
        "    epochs=epochs,\n",
        "    model=densenet121,\n",
        "    criterion=criterion,\n",
        "    optimizer=optim.Adam(densenet121.parameters(), lr=3e-5),\n",
        "    train_dl=train_dl,\n",
        "    valid_dl=valid_dl\n",
        ")"
      ],
      "execution_count": 10,
      "outputs": [
        {
          "output_type": "stream",
          "text": [
            "Epoch [ 1/15]: 100%|██████████| 657/657 [04:03<00:00,  2.70it/s, acc=0.905, loss=0.153]\n"
          ],
          "name": "stderr"
        },
        {
          "output_type": "stream",
          "text": [
            "\n",
            "\t\tAvg train loss: 0.286987\tAvg valid loss: 0.068573\n",
            "\n",
            "\t\tvalid_loss decreased (inf -> 0.068573)\n",
            "\t\tsaving model...\n",
            "\n"
          ],
          "name": "stdout"
        },
        {
          "output_type": "stream",
          "text": [
            "Epoch [ 2/15]: 100%|██████████| 657/657 [04:03<00:00,  2.70it/s, acc=0.96, loss=0.174]\n"
          ],
          "name": "stderr"
        },
        {
          "output_type": "stream",
          "text": [
            "\n",
            "\t\tAvg train loss: 0.121936\tAvg valid loss: 0.041026\n",
            "\n",
            "\t\tvalid_loss decreased (0.068573 -> 0.041026)\n",
            "\t\tsaving model...\n",
            "\n"
          ],
          "name": "stdout"
        },
        {
          "output_type": "stream",
          "text": [
            "Epoch [ 3/15]: 100%|██████████| 657/657 [04:03<00:00,  2.70it/s, acc=0.969, loss=0.114]\n"
          ],
          "name": "stderr"
        },
        {
          "output_type": "stream",
          "text": [
            "\n",
            "\t\tAvg train loss: 0.091854\tAvg valid loss: 0.023349\n",
            "\n",
            "\t\tvalid_loss decreased (0.041026 -> 0.023349)\n",
            "\t\tsaving model...\n",
            "\n"
          ],
          "name": "stdout"
        },
        {
          "output_type": "stream",
          "text": [
            "Epoch [ 4/15]: 100%|██████████| 657/657 [04:03<00:00,  2.70it/s, acc=0.976, loss=0.042]\n"
          ],
          "name": "stderr"
        },
        {
          "output_type": "stream",
          "text": [
            "\n",
            "\t\tAvg train loss: 0.072923\tAvg valid loss: 0.050998\n",
            "\n"
          ],
          "name": "stdout"
        },
        {
          "output_type": "stream",
          "text": [
            "Epoch [ 5/15]: 100%|██████████| 657/657 [04:03<00:00,  2.70it/s, acc=0.979, loss=0.0148]\n"
          ],
          "name": "stderr"
        },
        {
          "output_type": "stream",
          "text": [
            "\n",
            "\t\tAvg train loss: 0.059002\tAvg valid loss: 0.031071\n",
            "\n"
          ],
          "name": "stdout"
        },
        {
          "output_type": "stream",
          "text": [
            "Epoch [ 6/15]: 100%|██████████| 657/657 [04:03<00:00,  2.70it/s, acc=0.984, loss=0.0231]\n"
          ],
          "name": "stderr"
        },
        {
          "output_type": "stream",
          "text": [
            "\n",
            "\t\tAvg train loss: 0.051435\tAvg valid loss: 0.017686\n",
            "\n",
            "\t\tvalid_loss decreased (0.023349 -> 0.017686)\n",
            "\t\tsaving model...\n",
            "\n"
          ],
          "name": "stdout"
        },
        {
          "output_type": "stream",
          "text": [
            "Epoch [ 7/15]: 100%|██████████| 657/657 [04:03<00:00,  2.70it/s, acc=0.988, loss=0.237]\n"
          ],
          "name": "stderr"
        },
        {
          "output_type": "stream",
          "text": [
            "\n",
            "\t\tAvg train loss: 0.039400\tAvg valid loss: 0.036317\n",
            "\n"
          ],
          "name": "stdout"
        },
        {
          "output_type": "stream",
          "text": [
            "Epoch [ 8/15]: 100%|██████████| 657/657 [04:03<00:00,  2.70it/s, acc=0.989, loss=0.00534]\n"
          ],
          "name": "stderr"
        },
        {
          "output_type": "stream",
          "text": [
            "\n",
            "\t\tAvg train loss: 0.034346\tAvg valid loss: 0.038673\n",
            "\n"
          ],
          "name": "stdout"
        },
        {
          "output_type": "stream",
          "text": [
            "Epoch [ 9/15]: 100%|██████████| 657/657 [04:03<00:00,  2.70it/s, acc=0.992, loss=0.00395]\n"
          ],
          "name": "stderr"
        },
        {
          "output_type": "stream",
          "text": [
            "\n",
            "\t\tAvg train loss: 0.027598\tAvg valid loss: 0.033738\n",
            "\n"
          ],
          "name": "stdout"
        },
        {
          "output_type": "stream",
          "text": [
            "Epoch [10/15]: 100%|██████████| 657/657 [04:03<00:00,  2.70it/s, acc=0.992, loss=0.323]\n"
          ],
          "name": "stderr"
        },
        {
          "output_type": "stream",
          "text": [
            "\n",
            "\t\tAvg train loss: 0.023704\tAvg valid loss: 0.017631\n",
            "\n",
            "\t\tvalid_loss decreased (0.017686 -> 0.017631)\n",
            "\t\tsaving model...\n",
            "\n"
          ],
          "name": "stdout"
        },
        {
          "output_type": "stream",
          "text": [
            "Epoch [11/15]: 100%|██████████| 657/657 [04:04<00:00,  2.69it/s, acc=0.993, loss=0.000343]\n"
          ],
          "name": "stderr"
        },
        {
          "output_type": "stream",
          "text": [
            "\n",
            "\t\tAvg train loss: 0.021821\tAvg valid loss: 0.016956\n",
            "\n",
            "\t\tvalid_loss decreased (0.017631 -> 0.016956)\n",
            "\t\tsaving model...\n",
            "\n"
          ],
          "name": "stdout"
        },
        {
          "output_type": "stream",
          "text": [
            "Epoch [12/15]: 100%|██████████| 657/657 [04:04<00:00,  2.68it/s, acc=0.993, loss=0.0223]\n"
          ],
          "name": "stderr"
        },
        {
          "output_type": "stream",
          "text": [
            "\n",
            "\t\tAvg train loss: 0.022176\tAvg valid loss: 0.088792\n",
            "\n"
          ],
          "name": "stdout"
        },
        {
          "output_type": "stream",
          "text": [
            "Epoch [13/15]: 100%|██████████| 657/657 [04:05<00:00,  2.68it/s, acc=0.995, loss=0.00216]\n"
          ],
          "name": "stderr"
        },
        {
          "output_type": "stream",
          "text": [
            "\n",
            "\t\tAvg train loss: 0.016109\tAvg valid loss: 0.041584\n",
            "\n"
          ],
          "name": "stdout"
        },
        {
          "output_type": "stream",
          "text": [
            "Epoch [14/15]: 100%|██████████| 657/657 [04:05<00:00,  2.67it/s, acc=0.995, loss=0.0106]\n"
          ],
          "name": "stderr"
        },
        {
          "output_type": "stream",
          "text": [
            "\n",
            "\t\tAvg train loss: 0.015966\tAvg valid loss: 0.064276\n",
            "\n"
          ],
          "name": "stdout"
        },
        {
          "output_type": "stream",
          "text": [
            "Epoch [15/15]: 100%|██████████| 657/657 [04:06<00:00,  2.66it/s, acc=0.995, loss=0.0028]\n"
          ],
          "name": "stderr"
        },
        {
          "output_type": "stream",
          "text": [
            "\n",
            "\t\tAvg train loss: 0.013991\tAvg valid loss: 0.040584\n",
            "\n"
          ],
          "name": "stdout"
        }
      ]
    }
  ]
}