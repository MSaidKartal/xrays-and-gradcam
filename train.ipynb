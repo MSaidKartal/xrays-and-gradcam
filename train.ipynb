{
  "nbformat": 4,
  "nbformat_minor": 0,
  "metadata": {
    "orig_nbformat": 2,
    "kernelspec": {
      "name": "python3",
      "display_name": "Python 3"
    },
    "colab": {
      "name": "resnet18.ipynb",
      "provenance": [],
      "collapsed_sections": []
    },
    "language_info": {
      "name": "python"
    },
    "accelerator": "GPU"
  },
  "cells": [
    {
      "cell_type": "code",
      "metadata": {
        "id": "j6Lx3muqILWw"
      },
      "source": [
        "import torch\n",
        "import torch.nn as nn\n",
        "import torch.optim as optim\n",
        "\n",
        "import torchvision.datasets as datasets\n",
        "from torch.utils.data import DataLoader, WeightedRandomSampler\n",
        "\n",
        "import utils\n",
        "import networks"
      ],
      "execution_count": 1,
      "outputs": []
    },
    {
      "cell_type": "code",
      "metadata": {
        "id": "zD9VVf7tILXC"
      },
      "source": [
        "train_set = datasets.ImageFolder(root=utils.dirs['train'], transform=utils.transform['train'])\n",
        "val_set = datasets.ImageFolder(root=utils.dirs['val'], transform=utils.transform['val'])"
      ],
      "execution_count": 4,
      "outputs": []
    },
    {
      "cell_type": "code",
      "metadata": {
        "id": "L9y7jDG-ILXD"
      },
      "source": [
        "class_freq = torch.as_tensor(train_set.targets).bincount()\n",
        "weight = 1 / class_freq\n",
        "samples_weight = weight[train_set.targets]\n",
        "sampler = WeightedRandomSampler(samples_weight, len(samples_weight), replacement=True)"
      ],
      "execution_count": 5,
      "outputs": []
    },
    {
      "cell_type": "code",
      "execution_count": null,
      "metadata": {},
      "outputs": [],
      "source": [
        "resnet18 = networks.get_resnet18(pretrained=True, out_features=4)"
      ]
    },
    {
      "cell_type": "code",
      "metadata": {
        "colab": {
          "base_uri": "https://localhost:8080/"
        },
        "id": "IoH23wktILXG",
        "outputId": "f2bb6159-0751-4a9d-ba89-b9d5149a41a3"
      },
      "source": [
        "utils.fit(\n",
        "    epochs=10,\n",
        "    model=resnet18,\n",
        "    criterion=nn.CrossEntropyLoss(),\n",
        "    optimizer=optim.Adam(resnet18.parameters(), lr=3e-5),\n",
        "    train_dl=DataLoader(train_set, batch_size=16, sampler=sampler),\n",
        "    valid_dl=DataLoader(val_set, batch_size=32)\n",
        ")"
      ],
      "execution_count": 8,
      "outputs": [
        {
          "output_type": "stream",
          "text": [
            "Epoch [ 1/10]: 100%|██████████| 1313/1313 [04:28<00:00,  4.89it/s, acc=0.912, loss=0.12]\n",
            "  0%|          | 0/1313 [00:00<?, ?it/s]"
          ],
          "name": "stderr"
        },
        {
          "output_type": "stream",
          "text": [
            "\t\tAvg training loss: 0.244246\tAvg validation loss: 0.056423\n",
            "\t\tval_loss decreased (inf --> 0.056423)  saving model...\n"
          ],
          "name": "stdout"
        },
        {
          "output_type": "stream",
          "text": [
            "Epoch [ 2/10]: 100%|██████████| 1313/1313 [04:28<00:00,  4.89it/s, acc=0.956, loss=0.0205]\n",
            "  0%|          | 0/1313 [00:00<?, ?it/s]"
          ],
          "name": "stderr"
        },
        {
          "output_type": "stream",
          "text": [
            "\t\tAvg training loss: 0.126862\tAvg validation loss: 0.049716\n",
            "\t\tval_loss decreased (0.056423 --> 0.049716)  saving model...\n"
          ],
          "name": "stdout"
        },
        {
          "output_type": "stream",
          "text": [
            "Epoch [ 3/10]: 100%|██████████| 1313/1313 [04:28<00:00,  4.89it/s, acc=0.967, loss=0.0337]\n",
            "  0%|          | 0/1313 [00:00<?, ?it/s]"
          ],
          "name": "stderr"
        },
        {
          "output_type": "stream",
          "text": [
            "\t\tAvg training loss: 0.096389\tAvg validation loss: 0.039880\n",
            "\t\tval_loss decreased (0.049716 --> 0.039880)  saving model...\n"
          ],
          "name": "stdout"
        },
        {
          "output_type": "stream",
          "text": [
            "Epoch [ 4/10]: 100%|██████████| 1313/1313 [04:29<00:00,  4.87it/s, acc=0.975, loss=0.00805]\n",
            "  0%|          | 0/1313 [00:00<?, ?it/s]"
          ],
          "name": "stderr"
        },
        {
          "output_type": "stream",
          "text": [
            "\t\tAvg training loss: 0.073555\tAvg validation loss: 0.026281\n",
            "\t\tval_loss decreased (0.039880 --> 0.026281)  saving model...\n"
          ],
          "name": "stdout"
        },
        {
          "output_type": "stream",
          "text": [
            "Epoch [ 5/10]: 100%|██████████| 1313/1313 [04:29<00:00,  4.87it/s, acc=0.98, loss=0.0165]\n",
            "Epoch [ 6/10]:   0%|          | 0/1313 [00:00<?, ?it/s]"
          ],
          "name": "stderr"
        },
        {
          "output_type": "stream",
          "text": [
            "\t\tAvg training loss: 0.063953\tAvg validation loss: 0.032789\n"
          ],
          "name": "stdout"
        },
        {
          "output_type": "stream",
          "text": [
            "Epoch [ 6/10]: 100%|██████████| 1313/1313 [04:29<00:00,  4.86it/s, acc=0.98, loss=0.026]\n",
            "  0%|          | 0/1313 [00:00<?, ?it/s]"
          ],
          "name": "stderr"
        },
        {
          "output_type": "stream",
          "text": [
            "\t\tAvg training loss: 0.058138\tAvg validation loss: 0.043833\n"
          ],
          "name": "stdout"
        },
        {
          "output_type": "stream",
          "text": [
            "Epoch [ 7/10]: 100%|██████████| 1313/1313 [04:30<00:00,  4.85it/s, acc=0.984, loss=0.028]\n",
            "  0%|          | 0/1313 [00:00<?, ?it/s]"
          ],
          "name": "stderr"
        },
        {
          "output_type": "stream",
          "text": [
            "\t\tAvg training loss: 0.048760\tAvg validation loss: 0.027824\n"
          ],
          "name": "stdout"
        },
        {
          "output_type": "stream",
          "text": [
            "Epoch [ 8/10]: 100%|██████████| 1313/1313 [04:30<00:00,  4.85it/s, acc=0.986, loss=0.00897]\n",
            "  0%|          | 0/1313 [00:00<?, ?it/s]"
          ],
          "name": "stderr"
        },
        {
          "output_type": "stream",
          "text": [
            "\t\tAvg training loss: 0.040949\tAvg validation loss: 0.022712\n",
            "\t\tval_loss decreased (0.026281 --> 0.022712)  saving model...\n"
          ],
          "name": "stdout"
        },
        {
          "output_type": "stream",
          "text": [
            "Epoch [ 9/10]: 100%|██████████| 1313/1313 [04:30<00:00,  4.86it/s, acc=0.988, loss=0.000634]\n",
            "  0%|          | 0/1313 [00:00<?, ?it/s]"
          ],
          "name": "stderr"
        },
        {
          "output_type": "stream",
          "text": [
            "\t\tAvg training loss: 0.036118\tAvg validation loss: 0.035958\n"
          ],
          "name": "stdout"
        },
        {
          "output_type": "stream",
          "text": [
            "Epoch [10/10]: 100%|██████████| 1313/1313 [04:29<00:00,  4.88it/s, acc=0.99, loss=0.0028]\n"
          ],
          "name": "stderr"
        },
        {
          "output_type": "stream",
          "text": [
            "\t\tAvg training loss: 0.031628\tAvg validation loss: 0.016979\n",
            "\t\tval_loss decreased (0.022712 --> 0.016979)  saving model...\n"
          ],
          "name": "stdout"
        }
      ]
    }
  ]
}