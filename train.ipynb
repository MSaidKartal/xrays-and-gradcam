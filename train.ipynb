{
  "nbformat": 4,
  "nbformat_minor": 0,
  "metadata": {
    "orig_nbformat": 2,
    "kernelspec": {
      "name": "python3",
      "display_name": "Python 3"
    },
    "colab": {
      "name": "resnet18.ipynb",
      "provenance": [],
      "collapsed_sections": []
    },
    "language_info": {
      "name": "python"
    },
    "accelerator": "GPU"
  },
  "cells": [
    {
      "cell_type": "code",
      "metadata": {
        "id": "j6Lx3muqILWw"
      },
      "source": [
        "import torch\n",
        "import torch.nn as nn\n",
        "import torch.optim as optim\n",
        "\n",
        "import torchvision.datasets as datasets\n",
        "from torch.utils.data import DataLoader, WeightedRandomSampler\n",
        "\n",
        "import utils\n",
        "import networks"
      ],
      "execution_count": null,
      "outputs": []
    },
    {
      "cell_type": "code",
      "metadata": {
        "id": "zD9VVf7tILXC"
      },
      "source": [
        "train_set = datasets.ImageFolder(root=utils.dirs['train'], transform=utils.transform['train'])\n",
        "val_set = datasets.ImageFolder(root=utils.dirs['val'], transform=utils.transform['val'])"
      ],
      "execution_count": null,
      "outputs": []
    },
    {
      "cell_type": "code",
      "metadata": {
        "id": "L9y7jDG-ILXD"
      },
      "source": [
        "class_freq = torch.as_tensor(train_set.targets).bincount()\n",
        "weight = 1 / class_freq\n",
        "samples_weight = weight[train_set.targets]\n",
        "sampler = WeightedRandomSampler(samples_weight, len(samples_weight), replacement=True)"
      ],
      "execution_count": null,
      "outputs": []
    },
    {
      "cell_type": "code",
      "execution_count": null,
      "metadata": {},
      "outputs": [],
      "source": [
        "resnet18 = networks.get_resnet18(pretrained=True, out_features=4)"
      ]
    },
    {
      "cell_type": "code",
      "metadata": {
        "colab": {
          "base_uri": "https://localhost:8080/"
        },
        "id": "IoH23wktILXG",
        "outputId": "f2bb6159-0751-4a9d-ba89-b9d5149a41a3"
      },
      "source": [
        "utils.fit(\n",
        "    epochs=10,\n",
        "    model=resnet18,\n",
        "    criterion=nn.CrossEntropyLoss(),\n",
        "    optimizer=optim.Adam(resnet18.parameters(), lr=3e-5),\n",
        "    train_dl=DataLoader(train_set, batch_size=16, sampler=sampler),\n",
        "    valid_dl=DataLoader(val_set, batch_size=32)\n",
        ")"
      ],
      "execution_count": null,
      "outputs": []
    }
  ]
}